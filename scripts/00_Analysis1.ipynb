{
 "cells": [
  {
   "cell_type": "markdown",
   "id": "eb8befe8-ae51-496d-a248-82a1b469b5e6",
   "metadata": {},
   "source": [
    "### Load modules"
   ]
  },
  {
   "cell_type": "code",
   "execution_count": 1,
   "id": "fbf5c2cc-2ed6-45b2-bcb1-c3db08e9843e",
   "metadata": {},
   "outputs": [],
   "source": [
    "import pandas as pd\n",
    "import numpy as np\n",
    "import os, re \n"
   ]
  },
  {
   "cell_type": "code",
   "execution_count": 22,
   "id": "f2b1c13b-e9b0-4a29-8db9-0ce851ddf3ea",
   "metadata": {},
   "outputs": [],
   "source": [
    "current_subject = 'sub007'\n",
    "\n",
    "position_names_file        = '../data/01_gaze_data/' + current_subject + '_billboard_list_position_name_assignment.csv'\n",
    "passing_viewing_list_file  = '../data/01_gaze_data/' + current_subject + '_lists_1.txt'\n",
    "recall_file                = '../data/03_interview_qualtrics_data/recall_sheet.csv'\n",
    "recognition_file           = '../data/03_interview_qualtrics_data/recognition_sheet.csv'"
   ]
  },
  {
   "cell_type": "markdown",
   "id": "a3387aa8-f2c1-49bc-9be5-f907665915a3",
   "metadata": {},
   "source": [
    "#### Reading the position_name file\n",
    "\n",
    "this gives us the \"raw names\" of which billboards were for this ppt at which position, which will be used to relabel the output files."
   ]
  },
  {
   "cell_type": "code",
   "execution_count": 23,
   "id": "609ee95d-5c52-4985-87de-d603b0dcacc7",
   "metadata": {},
   "outputs": [],
   "source": [
    "df_position_names  = pd.read_csv(position_names_file)\n",
    "df_position_names['billboard_name_at_position_cleaned'] = df_position_names['billboard_image_at_position'].apply(lambda x: x.replace(\"resources/billboards/\", \"\").replace(\".bmp\", \"\"))\n",
    "df_dropped = df_position_names.drop(['index', 'position_index', 'billboard_image_at_position'], axis=1)\n",
    "mapping_dict = pd.Series(df_dropped['billboard_name_at_position_cleaned'].values, index=df_dropped['billboard_named_position']).to_dict()"
   ]
  },
  {
   "cell_type": "markdown",
   "id": "4243d415-68c6-4b6f-af90-83cc7a1018f6",
   "metadata": {},
   "source": [
    "#### Reading the file with the remembered billboards\n",
    "\n",
    "This gives us the behavioral information, i.e. which bbs were looked at, not looked at, incepted, etc."
   ]
  },
  {
   "cell_type": "code",
   "execution_count": 20,
   "id": "ad09d12c-101d-4b3f-9e26-674f7df4589f",
   "metadata": {},
   "outputs": [],
   "source": [
    "with open(passing_viewing_list_file, 'r', encoding='utf-8') as file:\n",
    "    data = file.read()\n",
    "\n",
    "\n",
    "# Regular expressions to identify the different sections\n",
    "section_regex = r\"(Participant ID:\\s\\w+|passed_billboard_index_list:|passed_fixated_first_list:|passed_fixated_incepted_list:|repeated_forgone_list:|forgone_list:|passed_list:|glanced_list:)\"\n",
    "billboard_regex = r\"billboard_image_\\d+\"\n",
    "\n",
    "# Parsing function\n",
    "def parse_data(data):\n",
    "    parsed_data = {}\n",
    "    current_section = None\n",
    "    for line in data.splitlines():\n",
    "        # Check if the line starts a new section\n",
    "        section_match = re.match(section_regex, line)\n",
    "        if section_match:\n",
    "            current_section = section_match.group().strip(':')\n",
    "            parsed_data[current_section] = []\n",
    "        elif current_section:  # Add billboard data to the current section\n",
    "            billboards = re.findall(billboard_regex, line)\n",
    "            if billboards:\n",
    "                parsed_data[current_section].extend(billboards)\n",
    "    return parsed_data\n",
    "\n",
    "\n",
    "parsed_data = parse_data(data)\n",
    "\n",
    "# Convert to a DataFrame (optional)\n",
    "df = pd.DataFrame(dict([(k, pd.Series(v)) for k, v in parsed_data.items()]))\n",
    "\n",
    "##\n",
    "\n",
    "passed_fixated_first_list = df['passed_fixated_first_list'].dropna()\n",
    "passed_fixated_first_list = list(passed_fixated_first_list.values)\n",
    "passed_fixated_first_list = [mapping_dict.get(item, item) for item in passed_fixated_first_list]\n",
    "#print(passed_fixated_first_list)\n",
    "\n",
    "passed_fixated_incepted_list = df['passed_fixated_incepted_list'].dropna()\n",
    "passed_fixated_incepted_list = list(passed_fixated_incepted_list.values)\n",
    "passed_fixated_incepted_list = [mapping_dict.get(item, item) for item in passed_fixated_incepted_list]\n",
    "#print(passed_fixated_incepted_list)\n",
    "\n",
    "repeated_forgone_list = df['repeated_forgone_list'].dropna()\n",
    "repeated_forgone_list = list(repeated_forgone_list.values)\n",
    "repeated_forgone_list = [mapping_dict.get(item, item) for item in repeated_forgone_list]\n",
    "#print(repeated_forgone_list)\n",
    "\n",
    "forgone_list = df['forgone_list'].dropna()\n",
    "forgone_list = list(forgone_list.values)\n",
    "forgone_list = [mapping_dict.get(item, item) for item in forgone_list]\n",
    "#print(forgone_list)\n",
    "\n",
    "passed_list = df['passed_list'].dropna()\n",
    "passed_list = list(passed_list.values)\n",
    "passed_list = [mapping_dict.get(item, item) for item in passed_list]\n",
    "#print(passed_list)\n",
    "\n",
    "glanced_list = df['glanced_list'].dropna()\n",
    "glanced_list = list(glanced_list.values)\n",
    "glanced_list = [mapping_dict.get(item, item) for item in glanced_list]\n",
    "#print(glanced_list)\n"
   ]
  },
  {
   "cell_type": "markdown",
   "id": "55c6085f-1c5e-4c31-a9bb-979c94624201",
   "metadata": {},
   "source": [
    "#### Reading the recall data file\n",
    "\n",
    "this gives us this participant's memory"
   ]
  },
  {
   "cell_type": "code",
   "execution_count": 21,
   "id": "d14307d4-255e-4757-bbb7-38f3f2101ccf",
   "metadata": {},
   "outputs": [
    {
     "data": {
      "text/plain": [
       "['great_lakes', 'polar_bear', 'vaccination', 'carpet_cleaning', 'cosmetics']"
      ]
     },
     "execution_count": 21,
     "metadata": {},
     "output_type": "execute_result"
    }
   ],
   "source": [
    "recall_df = pd.read_csv(recall_file)\n",
    "this_sub_df = recall_df[recall_df['subject'] == current_subject]\n",
    "this_sub_recalled = this_sub_df.columns[this_sub_df.iloc[0] == 1].tolist()\n",
    "this_sub_recalled"
   ]
  },
  {
   "cell_type": "markdown",
   "id": "8f4157d9-53a1-4bde-b410-4e3f0dd231a8",
   "metadata": {},
   "source": [
    "#### Combining the viewing lists with the recalls"
   ]
  },
  {
   "cell_type": "code",
   "execution_count": 6,
   "id": "4e081abe-76ce-40d8-9cb1-27993af55aa4",
   "metadata": {},
   "outputs": [
    {
     "name": "stdout",
     "output_type": "stream",
     "text": [
      "recall rate passed_fixated\n",
      "0.1\n",
      "recall rate fixated incepted\n",
      "1.0\n",
      "recall rate repeated forgone\n",
      "0\n",
      "recall rate forgone\n",
      "0.0\n"
     ]
    }
   ],
   "source": [
    "# passed_fixated_first_list\n",
    "# determine which items from the recall_list where in the passed_fixated_first_list\n",
    "common_elements = [item for item in passed_fixated_first_list if item in this_sub_recalled]\n",
    "#print(common_elements) \n",
    "\n",
    "print('recall rate passed_fixated')\n",
    "recall_passed_fixated_first = len(common_elements)/len(passed_fixated_first_list) if len(passed_fixated_first_list) != 0 else 0\n",
    "print(recall_passed_fixated_first)\n",
    "\n",
    "\n",
    "# passed_fixated_incepted_list\n",
    "# determine which items from the recall_list where in the passed_fixated_incepted_list\n",
    "common_elements = [item for item in passed_fixated_incepted_list if item in this_sub_recalled]\n",
    "#print(common_elements) \n",
    "\n",
    "print('recall rate fixated incepted')\n",
    "recall_fixated_incepted = len(common_elements)/len(passed_fixated_incepted_list) if len(passed_fixated_incepted_list) != 0 else 0\n",
    "print(recall_fixated_incepted)\n",
    "\n",
    "\n",
    "# repeated_forgone_list\n",
    "# determine which items from the recall_list where in the repeated_forgone_list\n",
    "common_elements = [item for item in repeated_forgone_list if item in this_sub_recalled] \n",
    "#print(common_elements) \n",
    "\n",
    "print('recall rate repeated forgone')\n",
    "recall_repeated_forgone = len(common_elements)/len(repeated_forgone_list) if len(repeated_forgone_list) != 0 else 0\n",
    "print(recall_repeated_forgone)\n",
    "\n",
    "\n",
    "# forgone_list\n",
    "# determine which items from the recall_list where in the forgone_list\n",
    "common_elements = [item for item in forgone_list if item in this_sub_recalled] \n",
    "#print(common_elements) \n",
    "\n",
    "print('recall rate forgone')\n",
    "recall_forgone = len(common_elements)/len(forgone_list) if len(forgone_list) != 0 else 0\n",
    "print(recall_forgone)\n"
   ]
  },
  {
   "cell_type": "markdown",
   "id": "c97b6d59-089c-4f53-864f-56cf43f61210",
   "metadata": {},
   "source": [
    "#### Reading the Recognition Data"
   ]
  },
  {
   "cell_type": "code",
   "execution_count": 7,
   "id": "50ca38c9-a8da-4693-bd79-159fb46a5a38",
   "metadata": {},
   "outputs": [
    {
     "data": {
      "text/plain": [
       "['binge_drinking',\n",
       " 'buckle_up',\n",
       " 'caffeine_consumption',\n",
       " 'diabetes_awareness',\n",
       " 'regular_doctor_visits',\n",
       " 'drug_abuse',\n",
       " 'employee_wellness',\n",
       " 'healthy_diet',\n",
       " 'HIV',\n",
       " 'jogging_physical_activity',\n",
       " 'mental_health',\n",
       " 'polar_bear',\n",
       " 'recycling',\n",
       " 'sun_skin_protection',\n",
       " 'burger',\n",
       " 'car_insurance',\n",
       " 'carpet_cleaning',\n",
       " 'clothes_sale',\n",
       " 'coffee',\n",
       " 'fundraising',\n",
       " 'pet_store',\n",
       " 'pizza',\n",
       " 'pottery_class']"
      ]
     },
     "execution_count": 7,
     "metadata": {},
     "output_type": "execute_result"
    }
   ],
   "source": [
    "recognition_df = pd.read_csv(recognition_file)\n",
    "this_sub_df = recognition_df[recognition_df['subject'] == current_subject]\n",
    "this_sub_recognized = this_sub_df.columns[this_sub_df.iloc[0] == 1].tolist()\n",
    "this_sub_recognized"
   ]
  },
  {
   "cell_type": "code",
   "execution_count": 8,
   "id": "243316e9-1507-406b-974b-a981974f5b94",
   "metadata": {},
   "outputs": [
    {
     "name": "stdout",
     "output_type": "stream",
     "text": [
      "recognition rate passed_fixated\n",
      "0.6666666666666666\n",
      "recognition rate fixated incepted\n",
      "1.0\n",
      "recognition rate repeated forgone\n",
      "0\n",
      "recognition rate forgone\n",
      "0.0\n"
     ]
    }
   ],
   "source": [
    "# passed_fixated_first_list\n",
    "# determine which items from the recall_list where in the passed_fixated_first_list\n",
    "common_elements = [item for item in passed_fixated_first_list if item in this_sub_recognized]\n",
    "#print(common_elements) \n",
    "\n",
    "print('recognition rate passed_fixated')\n",
    "recognition_passed_fixated_first = len(common_elements)/len(passed_fixated_first_list) if len(passed_fixated_first_list) != 0 else 0\n",
    "print(recognition_passed_fixated_first)\n",
    "\n",
    "\n",
    "# passed_fixated_incepted_list\n",
    "# determine which items from the recall_list where in the passed_fixated_incepted_list\n",
    "common_elements = [item for item in passed_fixated_incepted_list if item in this_sub_recognized]\n",
    "#print(common_elements) \n",
    "\n",
    "print('recognition rate fixated incepted')\n",
    "recognition_fixated_incepted = len(common_elements)/len(passed_fixated_incepted_list) if len(passed_fixated_incepted_list) != 0 else 0\n",
    "print(recognition_fixated_incepted)\n",
    "\n",
    "\n",
    "# repeated_forgone_list\n",
    "# determine which items from the recall_list where in the repeated_forgone_list\n",
    "common_elements = [item for item in repeated_forgone_list if item in this_sub_recognized] \n",
    "#print(common_elements) \n",
    "\n",
    "print('recognition rate repeated forgone')\n",
    "recognition_repeated_forgone = len(common_elements)/len(repeated_forgone_list) if len(repeated_forgone_list) != 0 else 0\n",
    "print(recognition_repeated_forgone)\n",
    "\n",
    "\n",
    "# forgone_list\n",
    "# determine which items from the recall_list where in the forgone_list\n",
    "common_elements = [item for item in forgone_list if item in this_sub_recognized] \n",
    "#print(common_elements) \n",
    "\n",
    "print('recognition rate forgone')\n",
    "recognition_forgone = len(common_elements)/len(forgone_list) if len(forgone_list) != 0 else 0\n",
    "print(recognition_forgone)\n"
   ]
  },
  {
   "cell_type": "code",
   "execution_count": null,
   "id": "bd1ef70c-bcd3-4556-97da-d08055334add",
   "metadata": {},
   "outputs": [],
   "source": []
  }
 ],
 "metadata": {
  "kernelspec": {
   "display_name": "Python 3 (ipykernel)",
   "language": "python",
   "name": "python3"
  },
  "language_info": {
   "codemirror_mode": {
    "name": "ipython",
    "version": 3
   },
   "file_extension": ".py",
   "mimetype": "text/x-python",
   "name": "python",
   "nbconvert_exporter": "python",
   "pygments_lexer": "ipython3",
   "version": "3.11.5"
  }
 },
 "nbformat": 4,
 "nbformat_minor": 5
}
